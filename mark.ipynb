{
 "cells": [
  {
   "cell_type": "code",
   "execution_count": 45,
   "metadata": {},
   "outputs": [],
   "source": [
    "\n",
    "import requests\n",
    "import pandas as pd\n"
   ]
  },
  {
   "cell_type": "code",
   "execution_count": 46,
   "metadata": {},
   "outputs": [],
   "source": [
    "historical_BTC = requests.get('https://ftx.com/api/markets/BTC-PERP/candles?resolution=86400').json()\n",
    "historical_BTC = pd.DataFrame(historical_BTC['result'])\n",
    "historical_BTC['Nombre'] = 'BTC-PERP'\n",
    "\n",
    "\n",
    "historical_ETH = requests.get('https://ftx.com/api/markets/ETH-PERP/candles?resolution=86400').json()\n",
    "historical_ETH = pd.DataFrame(historical_ETH['result'])\n",
    "historical_ETH['Nombre'] = 'ETH-PERP'\n",
    "\n",
    "\n",
    "historical_SOL = requests.get('https://ftx.com/api/markets/SOL-PERP/candles?resolution=86400').json()\n",
    "historical_SOL = pd.DataFrame(historical_SOL['result'])\n",
    "historical_SOL['Nombre'] = 'SOL-PERP'\n",
    "\n",
    "\n",
    "historical_LINK = requests.get('https://ftx.com/api/markets/LINK-PERP/candles?resolution=86400').json()\n",
    "historical_LINK = pd.DataFrame(historical_LINK['result'])\n",
    "historical_LINK['Nombre'] = 'LINK-PERP'\n",
    "\n",
    "historical_BNB = requests.get('https://ftx.com/api/markets/BNB-PERP/candles?resolution=86400').json()\n",
    "historical_BNB = pd.DataFrame(historical_BNB['result'])\n",
    "historical_BNB['Nombre'] = 'BNB-PERP'\n",
    "\n",
    "\n",
    "historical_ETC = requests.get('https://ftx.com/api/markets/ETC-PERP/candles?resolution=86400').json()\n",
    "historical_ETC = pd.DataFrame(historical_ETC['result'])\n",
    "historical_ETC['Nombre'] = 'ETC-PERP'\n",
    "\n",
    "\n",
    "historical_XRP = requests.get('https://ftx.com/api/markets/XRP-PERP/candles?resolution=86400').json()\n",
    "historical_XRP = pd.DataFrame(historical_XRP['result'])\n",
    "historical_XRP['Nombre'] = 'XRP-PERP'\n",
    "\n",
    "\n",
    "historical_CHZ = requests.get('https://ftx.com/api/markets/CHZ-PERP/candles?resolution=86400').json()\n",
    "historical_CHZ = pd.DataFrame(historical_CHZ['result'])\n",
    "historical_CHZ['Nombre'] = 'CHZ-PERP'\n",
    "\n",
    "historical_DOT = requests.get('https://ftx.com/api/markets/DOT-PERP/candles?resolution=86400').json()\n",
    "historical_DOT = pd.DataFrame(historical_DOT['result'])\n",
    "historical_DOT['Nombre'] = 'DOT-PERP'\n",
    "\n",
    "\n",
    "historical_DOGE = requests.get('https://ftx.com/api/markets/DOGE-PERP/candles?resolution=86400').json()\n",
    "historical_DOGE = pd.DataFrame(historical_DOGE['result'])\n",
    "historical_DOGE['Nombre'] = 'DOGE-PERP'\n"
   ]
  },
  {
   "cell_type": "code",
   "execution_count": 47,
   "metadata": {},
   "outputs": [],
   "source": [
    "df_final = pd.concat([historical_LINK, historical_BTC, historical_SOL, historical_ETH, historical_BNB, historical_ETC, historical_XRP, historical_CHZ, historical_DOT, historical_DOGE], axis=0)"
   ]
  },
  {
   "cell_type": "code",
   "execution_count": 48,
   "metadata": {},
   "outputs": [],
   "source": [
    "df_final.to_csv('criptosFinal.csv')"
   ]
  },
  {
   "cell_type": "markdown",
   "metadata": {},
   "source": [
    "Enlace para poder visualizar la web app de Power Bi:\n",
    "https://app.powerbi.com/reportEmbed?reportId=e931a502-7f8d-4594-881c-267937564c85&autoAuth=true&ctid=4b682b18-faf8-4952-956c-d778cd53155e\n",
    "\n",
    "PD: Para poder visualizar e interactuar con los gráficos, se debera tener previamente una cuanta en Power BI."
   ]
  }
 ],
 "metadata": {
  "kernelspec": {
   "display_name": "Python 3.10.4 ('venv': venv)",
   "language": "python",
   "name": "python3"
  },
  "language_info": {
   "codemirror_mode": {
    "name": "ipython",
    "version": 3
   },
   "file_extension": ".py",
   "mimetype": "text/x-python",
   "name": "python",
   "nbconvert_exporter": "python",
   "pygments_lexer": "ipython3",
   "version": "3.10.4"
  },
  "orig_nbformat": 4,
  "vscode": {
   "interpreter": {
    "hash": "8c212db3bb9f33385a80d2442e2450cee90684bfbd1f79b2cf3bcc11219bf9ab"
   }
  }
 },
 "nbformat": 4,
 "nbformat_minor": 2
}
